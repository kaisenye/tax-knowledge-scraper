{
 "cells": [
  {
   "cell_type": "markdown",
   "metadata": {},
   "source": [
    "### Fetch IRS PDF Links"
   ]
  },
  {
   "cell_type": "code",
   "execution_count": 4,
   "metadata": {},
   "outputs": [
    {
     "data": {
      "text/plain": [
       "['https://www.irs.gov/pub/irs-pdf/i1040gi.pdf',\n",
       " 'https://www.irs.gov/pub/irs-pdf/pcir230.pdf',\n",
       " 'https://www.irs.gov/pub/irs-pdf/i1040gi.pdf',\n",
       " 'https://www.irs.gov/pub/irs-pdf/pcir230.pdf',\n",
       " 'https://www.irs.gov/pub/irs-pdf/f941.pdf',\n",
       " 'https://www.irs.gov/pub/irs-pdf/i941.pdf',\n",
       " 'https://www.irs.gov/pub/irs-pdf/f941sb.pdf',\n",
       " 'https://www.irs.gov/pub/irs-pdf/i941sb.pdf',\n",
       " 'https://www.irs.gov/pub/irs-pdf/f941sd.pdf',\n",
       " 'https://www.irs.gov/pub/irs-pdf/i941sd.pdf',\n",
       " 'https://www.irs.gov/pub/irs-pdf/f941sr.pdf',\n",
       " 'https://www.irs.gov/pub/irs-pdf/i941sr.pdf']"
      ]
     },
     "execution_count": 4,
     "metadata": {},
     "output_type": "execute_result"
    }
   ],
   "source": [
    "# fetch_irs_pdf_links.py\n",
    "import requests\n",
    "from bs4 import BeautifulSoup\n",
    "\n",
    "def get_pdf_links(base_url):\n",
    "    res = requests.get(base_url)\n",
    "    soup = BeautifulSoup(res.text, 'html.parser')\n",
    "    links = []\n",
    "\n",
    "    for a in soup.find_all('a', href=True):\n",
    "        href = a['href']\n",
    "        if 'pub' in href and href.endswith('.pdf'):\n",
    "            full_url = href if href.startswith('http') else f\"https://www.irs.gov{href}\"\n",
    "            links.append(full_url)\n",
    "\n",
    "    return links\n",
    "\n",
    "get_pdf_links('https://www.irs.gov/forms-pubs/about-form-941')"
   ]
  },
  {
   "cell_type": "markdown",
   "metadata": {},
   "source": [
    "### Scrape IRS PDFs Table"
   ]
  },
  {
   "cell_type": "code",
   "execution_count": null,
   "metadata": {},
   "outputs": [],
   "source": [
    "BASE_URL = \"https://www.irs.gov/forms-instructions-and-publications\"\n",
    "DOWNLOAD_FOLDER = \"./irs_docs\"\n",
    "\n",
    "def scrape_table():\n",
    "    rows = []\n",
    "    page = 0\n",
    "    while True:\n",
    "        url = f\"{BASE_URL}?page={page}\"\n",
    "        res = requests.get(url)\n",
    "        soup = BeautifulSoup(res.text, \"html.parser\")\n",
    "        table = soup.find(\"table\")\n",
    "        if not table:\n",
    "            break\n",
    "\n",
    "        for tr in table.find_all(\"tr\")[1:]:\n",
    "            cols = tr.find_all(\"td\")\n",
    "            if len(cols) < 4:\n",
    "                continue\n",
    "            product_link = cols[0].find(\"a\")\n",
    "            if not product_link:\n",
    "                continue\n",
    "\n",
    "            revision = cols[2].text.strip()\n",
    "            if not any(y in revision for y in [\"2024\", \"2025\"]):\n",
    "                continue\n",
    "\n",
    "            rows.append({\n",
    "                \"name\": product_link.text.strip(),\n",
    "                \"title\": cols[1].text.strip(),\n",
    "                \"revision_date\": revision,\n",
    "                \"posted_date\": cols[3].text.strip(),\n",
    "                \"pdf_url\": \"https://www.irs.gov\" + product_link[\"href\"]\n",
    "            })\n",
    "\n",
    "        # Pagination stops when no table found\n",
    "        page += 1\n",
    "\n",
    "    df = pd.DataFrame(rows)\n",
    "    df.to_csv(\"output/filtered_irs_pubs_2024_2025.csv\", index=False)\n",
    "    print(f\"✅ Scraped {len(df)} items from IRS\")\n",
    "    return df\n",
    "\n",
    "df = scrape_table()"
   ]
  },
  {
   "cell_type": "markdown",
   "metadata": {},
   "source": [
    "### Download IRS PDFs"
   ]
  },
  {
   "cell_type": "code",
   "execution_count": null,
   "metadata": {},
   "outputs": [],
   "source": [
    "# download_pdfs.py\n",
    "import os\n",
    "import requests\n",
    "\n",
    "def download_pdfs(links, download_folder=\"./pdfs\"):\n",
    "    os.makedirs(download_folder, exist_ok=True)\n",
    "\n",
    "    for link in links:\n",
    "        filename = link.split('/')[-1]\n",
    "        file_path = os.path.join(download_folder, filename)\n",
    "\n",
    "        if not os.path.exists(file_path):\n",
    "            print(f\"Downloading {filename}\")\n",
    "            r = requests.get(link)\n",
    "            with open(file_path, \"wb\") as f:\n",
    "                f.write(r.content)\n"
   ]
  },
  {
   "cell_type": "markdown",
   "metadata": {},
   "source": [
    "### Extract Chuncks"
   ]
  },
  {
   "cell_type": "code",
   "execution_count": 12,
   "metadata": {},
   "outputs": [],
   "source": [
    "import pdfplumber\n",
    "import re\n",
    "import tiktoken\n",
    "\n",
    "# Use GPT-3.5 encoding to estimate token size\n",
    "enc = tiktoken.encoding_for_model(\"gpt-3.5-turbo\")\n",
    "\n",
    "toc = [\n",
    "    {\"title\": \"What's New\", \"start_page\": 6},\n",
    "    {\"title\": \"Filing Requirements\", \"start_page\": 8},\n",
    "    {\"title\": \"Line Instructions for Forms 1040 and 1040-SR\", \"start_page\": 12},\n",
    "    {\"title\": \"Income\", \"start_page\": 23},\n",
    "    {\"title\": \"Refund\", \"start_page\": 57},\n",
    "    {\"title\": \"Sign Your Return\", \"start_page\": 62},\n",
    "    {\"title\": \"2024 Tax Table\", \"start_page\": 64},\n",
    "    {\"title\": \"General Information\", \"start_page\": 77},\n",
    "    {\"title\": \"How To Get Tax Help\", \"start_page\": 79},\n",
    "    {\"title\": \"Refund Information\", \"start_page\": 83},\n",
    "    {\"title\": \"Instructions for Schedule 1\", \"start_page\": 84},\n",
    "    {\"title\": \"Instructions for Schedule 2\", \"start_page\": 96},\n",
    "    {\"title\": \"Instructions for Schedule 3\", \"start_page\": 101},\n",
    "    {\"title\": \"Tax Topics\", \"start_page\": 104},\n",
    "    {\"title\": \"Disclosure, Privacy Act...\", \"start_page\": 106},\n",
    "    {\"title\": \"Major Categories of Income and Outlays\", \"start_page\": 108},\n",
    "    {\"title\": \"Index\", \"start_page\": 110}\n",
    "]\n",
    "\n",
    "def count_tokens(text):\n",
    "    return len(enc.encode(text))\n",
    "\n",
    "def subchunk_text(text, max_tokens=500):\n",
    "    paragraphs = [p.strip() for p in text.split('\\n') if len(p.strip()) > 30]\n",
    "    chunks = []\n",
    "    current = \"\"\n",
    "\n",
    "    for para in paragraphs:\n",
    "        if count_tokens(current + \" \" + para) < max_tokens:\n",
    "            current += \" \" + para\n",
    "        else:\n",
    "            chunks.append(current.strip())\n",
    "            current = para\n",
    "\n",
    "    if current:\n",
    "        chunks.append(current.strip())\n",
    "\n",
    "    return chunks\n",
    "\n",
    "def extract_by_semantic_toc(pdf_path, toc, doc_id=\"irs_1040_instr_2024\"):\n",
    "    with pdfplumber.open(pdf_path) as pdf:\n",
    "        all_chunks = []\n",
    "\n",
    "        for i in range(len(toc)):\n",
    "            start_page = toc[i]['start_page'] - 1\n",
    "            end_page = toc[i + 1]['start_page'] - 1 if i + 1 < len(toc) else len(pdf.pages)\n",
    "            section_title = toc[i]['title']\n",
    "            ...\n",
    "\n",
    "            # Extract full section text\n",
    "            section_text = \"\"\n",
    "            for page in pdf.pages[start_page:end_page]:\n",
    "                section_text += page.extract_text() + \"\\n\"\n",
    "\n",
    "            section_text = re.sub(r'\\s{2,}', ' ', section_text).strip()\n",
    "            subchunks = subchunk_text(section_text)\n",
    "\n",
    "            for j, chunk in enumerate(subchunks):\n",
    "                chunk_data = {\n",
    "                    \"doc_id\": doc_id,\n",
    "                    \"section\": section_title,\n",
    "                    \"section_chunk_index\": j,\n",
    "                    \"text\": chunk,\n",
    "                    \"start_page\": start_page + 1,\n",
    "                    \"end_page\": end_page,\n",
    "                    \"jurisdiction\": \"federal\",\n",
    "                    \"source\": \"IRS 1040 Instructions 2024\"\n",
    "                }\n",
    "                all_chunks.append(chunk_data)\n",
    "\n",
    "        return all_chunks\n",
    "\n",
    "\n",
    "chunks = extract_by_semantic_toc(\"pdfs/i1040gi.pdf\", toc)\n",
    "\n",
    "# Example: embed into Pinecone or store in JSON\n",
    "import json\n",
    "with open(\"1040_chunks.json\", \"w\") as f:\n",
    "    json.dump(chunks, f, indent=2)"
   ]
  },
  {
   "cell_type": "code",
   "execution_count": 14,
   "metadata": {},
   "outputs": [
    {
     "name": "stdout",
     "output_type": "stream",
     "text": [
      "[[['If the amount you\\nare looking up from\\nthe worksheet is–', None, 'And your filing status is–', None], [None, None, 'Single, head of household,\\nor qualifying surviving\\nspouse★ and you have–\\n0 1 2 3', 'Married filing jointly and you\\nhave–\\n0 1 2 3'], ['At least', 'But less\\nthan', 'Your credit is–', 'Your credit is–'], ['12,000 12,050', None, '502 4,089 4,810 5,411', '632 4,089 4,810 5,411'], ['12,050 12,100', None, '499 4,106 4,830 5,434', '632 4,106 4,830 5,434'], ['12,100 12,150', None, '495 4,123 4,850 5,456', '632 4,123 4,850 5,456'], ['12,150 12,200', None, '491 4,140 4,870 5,479', '632 4,140 4,870 5,479'], ['12,200 12,250\\n12,250 12,300\\n12,300 12,350\\n12,350 12,400', None, '487 4,157 4,890 5,501\\n483 4,174 4,910 5,524\\n479 4,191 4,930 5,546\\n476 4,213 4,950 5,569', '632 4,157 4,890 5,501\\n632 4,174 4,910 5,524\\n632 4,191 4,930 5,546\\n632 4,213 4,950 5,569'], ['12,400 12,450', None, '472 4,213 4,970 5,591', '632 4,213 4,970 5,591'], ['12,450 12,500', None, '468 4,213 4,990 5,614', '632 4,213 4,990 5,614'], ['12,500 12,550', None, '464 4,213 5,010 5,636', '632 4,213 5,010 5,636'], ['12,550 12,600', None, '460 4,213 5,030 5,659', '632 4,213 5,030 5,659'], ['12,600 12,650\\n12,650 12,700\\n12,700 12,750\\n12,750 12,800', None, '456 4,213 5,050 5,681\\n453 4,213 5,070 5,704\\n449 4,213 5,090 5,726\\n445 4,213 5,110 5,749', '632 4,213 5,050 5,681\\n632 4,213 5,070 5,704\\n632 4,213 5,090 5,726\\n632 4,213 5,110 5,749'], ['12,800 12,850', None, '441 4,213 5,130 5,771', '632 4,213 5,130 5,771'], ['12,850 12,900', None, '437 4,213 5,150 5,794', '632 4,213 5,150 5,794'], ['12,900 12,950', None, '433 4,213 5,170 5,816', '632 4,213 5,170 5,816'], ['12,950 13,000', None, '430 4,213 5,190 5,839', '632 4,213 5,190 5,839'], ['13,000 13,050\\n13,050 13,100\\n13,100 13,150\\n13,150 13,200', None, '426 4,213 5,210 5,861\\n422 4,213 5,230 5,884\\n418 4,213 5,250 5,906\\n414 4,213 5,270 5,929', '632 4,213 5,210 5,861\\n632 4,213 5,230 5,884\\n632 4,213 5,250 5,906\\n632 4,213 5,270 5,929'], ['13,200 13,250', None, '411 4,213 5,290 5,951', '632 4,213 5,290 5,951'], ['13,250 13,300', None, '407 4,213 5,310 5,974', '632 4,213 5,310 5,974'], ['13,300 13,350', None, '403 4,213 5,330 5,996', '632 4,213 5,330 5,996'], ['13,350 13,400', None, '399 4,213 5,350 6,019', '632 4,213 5,350 6,019'], ['13,400 13,450\\n13,450 13,500\\n13,500 13,550\\n13,550 13,600', None, '395 4,213 5,370 6,041\\n391 4,213 5,390 6,064\\n388 4,213 5,410 6,086\\n384 4,213 5,430 6,109', '632 4,213 5,370 6,041\\n632 4,213 5,390 6,064\\n632 4,213 5,410 6,086\\n632 4,213 5,430 6,109'], ['13,600 13,650', None, '380 4,213 5,450 6,131', '632 4,213 5,450 6,131'], ['13,650 13,700', None, '376 4,213 5,470 6,154', '632 4,213 5,470 6,154'], ['13,700 13,750', None, '372 4,213 5,490 6,176', '632 4,213 5,490 6,176'], ['13,750 13,800', None, '368 4,213 5,510 6,199', '632 4,213 5,510 6,199'], ['13,800 13,850\\n13,850 13,900\\n13,900 13,950\\n13,950 14,000', None, '365 4,213 5,530 6,221\\n361 4,213 5,550 6,244\\n357 4,213 5,570 6,266\\n353 4,213 5,590 6,289', '632 4,213 5,530 6,221\\n632 4,213 5,550 6,244\\n632 4,213 5,570 6,266\\n632 4,213 5,590 6,289'], ['14,000 14,050', None, '349 4,213 5,610 6,311', '632 4,213 5,610 6,311'], ['14,050 14,100', None, '346 4,213 5,630 6,334', '632 4,213 5,630 6,334'], ['14,100 14,150', None, '342 4,213 5,650 6,356', '632 4,213 5,650 6,356'], ['14,150 14,200', None, '338 4,213 5,670 6,379', '632 4,213 5,670 6,379'], ['14,200 14,250\\n14,250 14,300\\n14,300 14,350\\n14,350 14,400', None, '334 4,213 5,690 6,401\\n330 4,213 5,710 6,424\\n326 4,213 5,730 6,446\\n323 4,213 5,750 6,469', '632 4,213 5,690 6,401\\n632 4,213 5,710 6,424\\n632 4,213 5,730 6,446\\n632 4,213 5,750 6,469'], ['14,400 14,450', None, '319 4,213 5,770 6,491', '632 4,213 5,770 6,491'], ['14,450 14,500', None, '315 4,213 5,790 6,514', '632 4,213 5,790 6,514'], ['14,500 14,550', None, '311 4,213 5,810 6,536', '632 4,213 5,810 6,536'], ['14,550 14,600', None, '307 4,213 5,830 6,559', '632 4,213 5,830 6,559'], ['14,600 14,650\\n14,650 14,700\\n14,700 14,750\\n14,750 14,800', None, '303 4,213 5,850 6,581\\n300 4,213 5,870 6,604\\n296 4,213 5,890 6,626\\n292 4,213 5,910 6,649', '632 4,213 5,850 6,581\\n632 4,213 5,870 6,604\\n632 4,213 5,890 6,626\\n632 4,213 5,910 6,649'], ['14,800 14,850', None, '288 4,213 5,930 6,671', '632 4,213 5,930 6,671'], ['14,850 14,900', None, '284 4,213 5,950 6,694', '632 4,213 5,950 6,694'], ['14,900 14,950', None, '280 4,213 5,970 6,716', '632 4,213 5,970 6,716'], ['14,950 15,000', None, '277 4,213 5,990 6,739', '632 4,213 5,990 6,739'], ['15,000 15,050\\n15,050 15,100\\n15,100 15,150\\n15,150 15,200', None, '273 4,213 6,010 6,761\\n269 4,213 6,030 6,784\\n265 4,213 6,050 6,806\\n261 4,213 6,070 6,829', '632 4,213 6,010 6,761\\n632 4,213 6,030 6,784\\n632 4,213 6,050 6,806\\n632 4,213 6,070 6,829']], [['If the amount you\\nare looking up from\\nthe worksheet is–', None, 'And your filing status is–', None], [None, None, 'Single, head of household,\\nor qualifying surviving\\nspouse★ and you have–\\n0 1 2 3', 'Married filing jointly and you\\nhave–\\n0 1 2 3'], ['At least', 'But less\\nthan', 'Your credit is–', 'Your credit is–'], ['15,200 15,250', None, '258 4,213 6,090 6,851', '632 4,213 6,090 6,851'], ['15,250 15,300', None, '254 4,213 6,110 6,874', '632 4,213 6,110 6,874'], ['15,300 15,350', None, '250 4,213 6,130 6,896', '632 4,213 6,130 6,896'], ['15,350 15,400', None, '246 4,213 6,150 6,919', '632 4,213 6,150 6,919'], ['15,400 15,450\\n15,450 15,500\\n15,500 15,550\\n15,550 15,600', None, '242 4,213 6,170 6,941\\n238 4,213 6,190 6,964\\n235 4,213 6,210 6,986\\n231 4,213 6,230 7,009', '632 4,213 6,170 6,941\\n632 4,213 6,190 6,964\\n632 4,213 6,210 6,986\\n632 4,213 6,230 7,009'], ['15,600 15,650', None, '227 4,213 6,250 7,031', '632 4,213 6,250 7,031'], ['15,650 15,700', None, '223 4,213 6,270 7,054', '632 4,213 6,270 7,054'], ['15,700 15,750', None, '219 4,213 6,290 7,076', '632 4,213 6,290 7,076'], ['15,750 15,800', None, '215 4,213 6,310 7,099', '632 4,213 6,310 7,099'], ['15,800 15,850\\n15,850 15,900\\n15,900 15,950\\n15,950 16,000', None, '212 4,213 6,330 7,121\\n208 4,213 6,350 7,144\\n204 4,213 6,370 7,166\\n200 4,213 6,390 7,189', '632 4,213 6,330 7,121\\n632 4,213 6,350 7,144\\n632 4,213 6,370 7,166\\n632 4,213 6,390 7,189'], ['16,000 16,050', None, '196 4,213 6,410 7,211', '632 4,213 6,410 7,211'], ['16,050 16,100', None, '193 4,213 6,430 7,234', '632 4,213 6,430 7,234'], ['16,100 16,150', None, '189 4,213 6,450 7,256', '632 4,213 6,450 7,256'], ['16,150 16,200', None, '185 4,213 6,470 7,279', '632 4,213 6,470 7,279'], ['16,200 16,250\\n16,250 16,300\\n16,300 16,350\\n16,350 16,400', None, '181 4,213 6,490 7,301\\n177 4,213 6,510 7,324\\n173 4,213 6,530 7,346\\n170 4,213 6,550 7,369', '632 4,213 6,490 7,301\\n632 4,213 6,510 7,324\\n632 4,213 6,530 7,346\\n632 4,213 6,550 7,369'], ['16,400 16,450', None, '166 4,213 6,570 7,391', '632 4,213 6,570 7,391'], ['16,450 16,500', None, '162 4,213 6,590 7,414', '632 4,213 6,590 7,414'], ['16,500 16,550', None, '158 4,213 6,610 7,436', '632 4,213 6,610 7,436'], ['16,550 16,600', None, '154 4,213 6,630 7,459', '632 4,213 6,630 7,459'], ['16,600 16,650\\n16,650 16,700\\n16,700 16,750\\n16,750 16,800', None, '150 4,213 6,650 7,481\\n147 4,213 6,670 7,504\\n143 4,213 6,690 7,526\\n139 4,213 6,710 7,549', '632 4,213 6,650 7,481\\n632 4,213 6,670 7,504\\n632 4,213 6,690 7,526\\n632 4,213 6,710 7,549'], ['16,800 16,850', None, '135 4,213 6,730 7,571', '632 4,213 6,730 7,571'], ['16,850 16,900', None, '131 4,213 6,750 7,594', '632 4,213 6,750 7,594'], ['16,900 16,950', None, '127 4,213 6,770 7,616', '632 4,213 6,770 7,616'], ['16,950 17,000', None, '124 4,213 6,790 7,639', '632 4,213 6,790 7,639'], ['17,000 17,050\\n17,050 17,100\\n17,100 17,150\\n17,150 17,200', None, '120 4,213 6,810 7,661\\n116 4,213 6,830 7,684\\n112 4,213 6,850 7,706\\n108 4,213 6,870 7,729', '632 4,213 6,810 7,661\\n632 4,213 6,830 7,684\\n632 4,213 6,850 7,706\\n632 4,213 6,870 7,729'], ['17,200 17,250', None, '105 4,213 6,890 7,751', '632 4,213 6,890 7,751'], ['17,250 17,300', None, '101 4,213 6,910 7,774', '630 4,213 6,910 7,774'], ['17,300 17,350', None, '97 4,213 6,930 7,796', '626 4,213 6,930 7,796'], ['17,350 17,400', None, '93 4,213 6,950 7,819', '622 4,213 6,950 7,819'], ['17,400 17,450\\n17,450 17,500\\n17,500 17,550\\n17,550 17,600', None, '89 4,213 6,960 7,830\\n85 4,213 6,960 7,830\\n82 4,213 6,960 7,830\\n78 4,213 6,960 7,830', '619 4,213 6,960 7,830\\n615 4,213 6,960 7,830\\n611 4,213 6,960 7,830\\n607 4,213 6,960 7,830'], ['17,600 17,650', None, '74 4,213 6,960 7,830', '603 4,213 6,960 7,830'], ['17,650 17,700', None, '70 4,213 6,960 7,830', '599 4,213 6,960 7,830'], ['17,700 17,750', None, '66 4,213 6,960 7,830', '596 4,213 6,960 7,830'], ['17,750 17,800', None, '62 4,213 6,960 7,830', '592 4,213 6,960 7,830'], ['17,800 17,850\\n17,850 17,900\\n17,900 17,950\\n17,950 18,000', None, '59 4,213 6,960 7,830\\n55 4,213 6,960 7,830\\n51 4,213 6,960 7,830\\n47 4,213 6,960 7,830', '588 4,213 6,960 7,830\\n584 4,213 6,960 7,830\\n580 4,213 6,960 7,830\\n577 4,213 6,960 7,830'], ['18,000 18,050', None, '43 4,213 6,960 7,830', '573 4,213 6,960 7,830'], ['18,050 18,100', None, '40 4,213 6,960 7,830', '569 4,213 6,960 7,830'], ['18,100 18,150', None, '36 4,213 6,960 7,830', '565 4,213 6,960 7,830'], ['18,150 18,200', None, '32 4,213 6,960 7,830', '561 4,213 6,960 7,830'], ['18,200 18,250\\n18,250 18,300\\n18,300 18,350\\n18,350 18,400', None, '28 4,213 6,960 7,830\\n24 4,213 6,960 7,830\\n20 4,213 6,960 7,830\\n17 4,213 6,960 7,830', '557 4,213 6,960 7,830\\n554 4,213 6,960 7,830\\n550 4,213 6,960 7,830\\n546 4,213 6,960 7,830']]]\n"
     ]
    }
   ],
   "source": [
    "import pdfplumber\n",
    "\n",
    "with pdfplumber.open(\"pdfs/i1040gi.pdf\") as pdf:\n",
    "    page = pdf.pages[47]  # Page with EIC table\n",
    "    tables = page.extract_tables()\n",
    "\n",
    "print(tables)"
   ]
  },
  {
   "cell_type": "markdown",
   "metadata": {},
   "source": [
    "### Embeded and Store in Pinecone"
   ]
  },
  {
   "cell_type": "code",
   "execution_count": null,
   "metadata": {},
   "outputs": [],
   "source": [
    "# embed_store.py\n",
    "import openai\n",
    "import pinecone\n",
    "import os\n",
    "\n",
    "openai.api_key = os.getenv(\"OPENAI_API_KEY\")\n",
    "pinecone.init(api_key=os.getenv(\"PINECONE_API_KEY\"), environment=\"us-west1-gcp\")\n",
    "index = pinecone.Index(\"tax-research\")\n",
    "\n",
    "def embed_and_store(chunks, metadata):\n",
    "    for i, chunk in enumerate(chunks):\n",
    "        response = openai.Embedding.create(\n",
    "            input=chunk,\n",
    "            model=\"text-embedding-ada-002\"\n",
    "        )\n",
    "        vector = response['data'][0]['embedding']\n",
    "        index.upsert([\n",
    "            (f\"{metadata['doc_id']}_{i}\", vector, {\n",
    "                \"text\": chunk,\n",
    "                **metadata\n",
    "            })\n",
    "        ])\n"
   ]
  }
 ],
 "metadata": {
  "kernelspec": {
   "display_name": "pythonProject",
   "language": "python",
   "name": "python3"
  },
  "language_info": {
   "codemirror_mode": {
    "name": "ipython",
    "version": 3
   },
   "file_extension": ".py",
   "mimetype": "text/x-python",
   "name": "python",
   "nbconvert_exporter": "python",
   "pygments_lexer": "ipython3",
   "version": "3.9.6"
  }
 },
 "nbformat": 4,
 "nbformat_minor": 2
}
